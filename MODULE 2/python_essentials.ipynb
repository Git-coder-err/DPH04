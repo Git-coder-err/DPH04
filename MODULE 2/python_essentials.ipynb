{
 "cells": [
  {
   "cell_type": "markdown",
   "metadata": {},
   "source": [
    "# **Python Key Points**\n",
    "1. **Interpreted Language**: Python is an interpreted language, which means that code is executed line by line by the Python interpreter. This allows for easier debugging and faster development cycles.\n",
    "2. **High-Level Language**: Python is designed to be human-readable and has a simple and easy-to-learn syntax. This makes it suitable for beginners and experienced programmers alike.\n",
    "3. **Dynamically Typed**: Python is dynamically typed, meaning that you don't need to declare variable types explicitly. The type of a variable is inferred at runtime based on the value assigned to it.\n",
    "4. **Indentation**: Python uses indentation to define code blocks instead of curly braces or keywords like begin and end. This enforces clean and readable code but can also lead to syntax errors if not used correctly.\n",
    "5. **Object-Oriented**: Python supports object-oriented programming (OOP) principles such as encapsulation, inheritance, and polymorphism. Everything in Python is an object, including integers, strings, functions, and classes.\n",
    "6. **Functional Programming Features**: While primarily an object-oriented language, Python also supports functional programming paradigms. It includes features like lambda functions, map, filter, and reduce functions, as well as support for list comprehensions.\n",
    "7. **Platform Independent**: Python code can run on any platform with a Python interpreter installed, including Windows, macOS, Linux, and UNIX. This makes Python highly portable and adaptable to different environments.\n",
    "8. **Community and Ecosystem**: Python has a large and active community of developers who contribute to its ecosystem by creating libraries, frameworks, and tools. This vibrant ecosystem makes it easy to find solutions to problems and accelerates development.\n",
    "9. **Versatile Usage**: Python is used for a wide range of applications, including web development, data science, machine learning, artificial intelligence, scientific computing, automation, scripting, and more. Its versatility and ease of use make it a popular choice across industries."
   ]
  },
  {
   "cell_type": "code",
   "execution_count": 1,
   "metadata": {},
   "outputs": [
    {
     "name": "stdout",
     "output_type": "stream",
     "text": [
      "Hello World\n"
     ]
    }
   ],
   "source": [
    "print(\"Hello World\")"
   ]
  },
  {
   "cell_type": "markdown",
   "metadata": {},
   "source": [
    "## **Commenting**\n",
    "Commenting is the process of adding annotations or remarks within your code to provide explanations, context, or documentation. Comments are not executed by the interpreter/compiler and are purely for the benefit of developers reading the code.\n",
    "\n",
    "#### **Types of Comments:**"
   ]
  },
  {
   "cell_type": "markdown",
   "metadata": {},
   "source": [
    "- **Single-Line Comments:** These comments start with a specific character (e.g., # in Python) and continue until the end of the line. They are suitable for brief annotations or remarks on individual lines of code."
   ]
  },
  {
   "cell_type": "code",
   "execution_count": 2,
   "metadata": {},
   "outputs": [],
   "source": [
    "# This is a single-line comment"
   ]
  },
  {
   "cell_type": "markdown",
   "metadata": {},
   "source": [
    "- **Multi-Line Comments:** While many programming languages support multi-line comments, Python does not have an explicit syntax for them. However, multi-line strings (docstrings) enclosed in triple quotes (\"\"\") are often used for this purpose. They are primarily intended for documenting modules, classes, functions, and methods."
   ]
  },
  {
   "cell_type": "code",
   "execution_count": 3,
   "metadata": {},
   "outputs": [
    {
     "name": "stdout",
     "output_type": "stream",
     "text": [
      "This is a message\n"
     ]
    }
   ],
   "source": [
    "\"\"\"\n",
    "    This is \n",
    "    a multi-line\n",
    "    comment\n",
    "\"\"\"\n",
    "print(\"This is a message\");"
   ]
  },
  {
   "cell_type": "markdown",
   "metadata": {},
   "source": [
    "- **Inline Comments:** Inline comments appear on the same line as code and provide additional context or explanation for that specific line of code. However, excessive use of inline comments can clutter the code and reduce readability, so they should be used sparingly and only when necessary."
   ]
  },
  {
   "cell_type": "code",
   "execution_count": 4,
   "metadata": {},
   "outputs": [
    {
     "name": "stdout",
     "output_type": "stream",
     "text": [
      "Hello World\n"
     ]
    }
   ],
   "source": [
    "print(\"Hello World\") # This is an inline comment"
   ]
  },
  {
   "cell_type": "markdown",
   "metadata": {},
   "source": [
    "## **Variables**\n",
    "\n",
    "#### **Creating Variables**\n",
    "\n",
    "Creating a variable in Python is simple. You assign a value to a variable name and start using it. Python figures out the variable type automatically.\n",
    "\n",
    "#### **Variable Naming Rules**\n",
    "- Variable names can contain letters (both uppercase and lowercase), digits, and underscores.\n",
    "- They must begin with a letter or an underscore (_), but not with a digit.\n",
    "- Case sensitive (myVar and myvar are different variables)\n",
    "- Python keywords cannot be used as variable names."
   ]
  },
  {
   "cell_type": "code",
   "execution_count": 7,
   "metadata": {},
   "outputs": [
    {
     "name": "stdout",
     "output_type": "stream",
     "text": [
      "Number: 10\n",
      "Number: 15\n"
     ]
    }
   ],
   "source": [
    "number = 10\n",
    "Number = 15\n",
    "print (\"Number:\", number)\n",
    "print(\"Number:\", Number)"
   ]
  },
  {
   "cell_type": "code",
   "execution_count": 8,
   "metadata": {},
   "outputs": [],
   "source": [
    "# Do not use keywords for function name.\n",
    "# print = \"Print\"\n",
    "# print(print)"
   ]
  },
  {
   "cell_type": "markdown",
   "metadata": {},
   "source": [
    "## **Numeric Data Types**\n",
    "\n",
    "- **int** - Integer values, such as `5`, `-3`, `1000`, etc."
   ]
  },
  {
   "cell_type": "code",
   "execution_count": 9,
   "metadata": {},
   "outputs": [
    {
     "name": "stdout",
     "output_type": "stream",
     "text": [
      "30 -30\n",
      "Type of positive_integer: <class 'int'>\n",
      "Type of negative_integer: <class 'int'>\n"
     ]
    }
   ],
   "source": [
    "positive_integer = 30\n",
    "negative_integer = -30\n",
    "print(positive_integer, negative_integer)\n",
    "print(\"Type of positive_integer:\", type(positive_integer))\n",
    "print(\"Type of negative_integer:\", type(negative_integer))"
   ]
  },
  {
   "cell_type": "markdown",
   "metadata": {},
   "source": [
    "- **float**: Floating-point values, representing decimal numbers, such as `3.14`, `-0.001`, `2.0`, etc."
   ]
  },
  {
   "cell_type": "code",
   "execution_count": 10,
   "metadata": {},
   "outputs": [
    {
     "name": "stdout",
     "output_type": "stream",
     "text": [
      "3.14 -3.14\n",
      "Type of positive_float: <class 'float'>\n",
      "Type of negative_float: <class 'float'>\n"
     ]
    }
   ],
   "source": [
    "positive_float = 3.14\n",
    "negative_float = -3.14\n",
    "print(positive_float, negative_float)\n",
    "print(\"Type of positive_float:\", type(positive_float))\n",
    "print(\"Type of negative_float:\", type(negative_float))"
   ]
  },
  {
   "cell_type": "markdown",
   "metadata": {},
   "source": [
    "## **Operators and Expressions**\n",
    "\n",
    "### **Arithmetic Operators**"
   ]
  },
  {
   "cell_type": "code",
   "execution_count": 13,
   "metadata": {},
   "outputs": [
    {
     "name": "stdout",
     "output_type": "stream",
     "text": [
      "Addition: 15\n",
      "Subtraction: 5\n",
      "Multiplication: 50\n",
      "Division: 2.0\n",
      "Remainder: 2\n",
      "Exponentiation: 1000\n"
     ]
    }
   ],
   "source": [
    "# Addition (+) = sum\n",
    "print(\"Addition:\", 10 + 5)\n",
    "# Subtraction (-) = difference\n",
    "print(\"Subtraction:\", 10 - 5)\n",
    "# Multiplication (*) = product\n",
    "print(\"Multiplication:\", 10 * 5)\n",
    "# Division (/) - Quotient\n",
    "print(\"Division:\", 10 / 5)\n",
    "\n",
    "# Modulus (%) - Remainder\n",
    "print(\"Remainder:\", 23 % 7)\n",
    "# Exponentiation **\n",
    "print(\"Exponentiation:\", 10 ** 3)"
   ]
  },
  {
   "cell_type": "code",
   "execution_count": 14,
   "metadata": {},
   "outputs": [
    {
     "name": "stdout",
     "output_type": "stream",
     "text": [
      "9.0\n"
     ]
    }
   ],
   "source": [
    "# PEMDAS/ BODMAS\n",
    "print(10 + 8 / 4 * 2 - 5)"
   ]
  },
  {
   "cell_type": "markdown",
   "metadata": {},
   "source": [
    "### **Assignment Operators**"
   ]
  },
  {
   "cell_type": "code",
   "execution_count": 16,
   "metadata": {},
   "outputs": [
    {
     "name": "stdout",
     "output_type": "stream",
     "text": [
      "15\n",
      "10\n",
      "50\n",
      "10.0\n"
     ]
    }
   ],
   "source": [
    "# Single Equal Sign\n",
    "num1 = 10\n",
    "num2 = 5\n",
    "# Addition Assignment (+=)\n",
    "num1 += num2\n",
    "print(num1)\n",
    "# Computation: 10 + 5 = 15\n",
    "# Subtraction Assignment (-=)\n",
    "num1 -= num2\n",
    "print(num1)\n",
    "# Computation: 15 - 5 = 10\n",
    "# Multiplication Assignment (*=)\n",
    "num1 *= num2\n",
    "print(num1)\n",
    "# Computation: 10 * 5 = 50\n",
    "# Division Assignment (/=)\n",
    "num1 /= num2\n",
    "print(num1)"
   ]
  },
  {
   "cell_type": "markdown",
   "metadata": {},
   "source": [
    "## **Boolean Data Type**\n",
    "- **bool**: Boolean values representing True or False."
   ]
  },
  {
   "cell_type": "code",
   "execution_count": 17,
   "metadata": {},
   "outputs": [
    {
     "name": "stdout",
     "output_type": "stream",
     "text": [
      "Is the user a student: False\n",
      "Is the user an admin?: True\n"
     ]
    }
   ],
   "source": [
    "is_student = False\n",
    "is_admin = True\n",
    "print(\"Is the user a student:\", is_student)\n",
    "print(\"Is the user an admin?:\", is_admin)"
   ]
  },
  {
   "cell_type": "markdown",
   "metadata": {},
   "source": [
    "### **Comparison Operators**"
   ]
  },
  {
   "cell_type": "code",
   "execution_count": 19,
   "metadata": {},
   "outputs": [
    {
     "name": "stdout",
     "output_type": "stream",
     "text": [
      "Equal to (==): False\n",
      "Not Equal to (!=): True\n",
      "Greater than (>): True\n",
      "Less than (<): False\n",
      "Greater than or Equal to (>=): True\n",
      "Less than or Equal to (<=): False\n"
     ]
    }
   ],
   "source": [
    "num3 = 10\n",
    "num4 = 5\n",
    "\n",
    "print(\"Equal to (==):\", num3 == num4)\n",
    "print(\"Not Equal to (!=):\", num3 != num4)\n",
    "print(\"Greater than (>):\", num3 > num4)\n",
    "print(\"Less than (<):\", num3 < num4)\n",
    "print(\"Greater than or Equal to (>=):\", num3 >= num4)\n",
    "print(\"Less than or Equal to (<=):\", num3 <= num4)"
   ]
  },
  {
   "cell_type": "markdown",
   "metadata": {},
   "source": [
    "### **Logical Operators**"
   ]
  },
  {
   "cell_type": "code",
   "execution_count": 24,
   "metadata": {},
   "outputs": [
    {
     "name": "stdout",
     "output_type": "stream",
     "text": [
      "Is it sunny AND warm? False\n",
      "Is it sunny OR warm? True\n",
      "Not sunny: True\n"
     ]
    }
   ],
   "source": [
    "sunny = False\n",
    "warm = True\n",
    "\n",
    "# AND, OR, NOT\n",
    "# And: True only if all conditions is met otherwise, False\n",
    "print(\"Is it sunny AND warm?\", sunny and warm)\n",
    "\n",
    "# OR: True if at least one condition is met\n",
    "print(\"Is it sunny OR warm?\", sunny or warm)\n",
    "\n",
    "# NOT: Invert the value of a boolean\n",
    "print(\"Not sunny:\", not sunny)"
   ]
  },
  {
   "cell_type": "markdown",
   "metadata": {},
   "source": [
    "## **Strings and String Methods**\n",
    "\n",
    "Strings are sequences of characters and are among the most used data types in Python, especially in data analytics for processing text data.\n",
    "\n",
    "#### **Introduction to Strings**\n",
    "\n",
    "Strings in Python are created by enclosing characters in quotes. Python treats single quotes (') and double quotes (\") as the same, allowing you to incorporate one type of quote within another including an apostrophe within a string.\n",
    "\n",
    "#### **Creating and Accessing Strings**"
   ]
  },
  {
   "cell_type": "code",
   "execution_count": 32,
   "metadata": {},
   "outputs": [
    {
     "name": "stdout",
     "output_type": "stream",
     "text": [
      "Kenneth Dato\n",
      "Kenneth\n",
      "Nicholas\n",
      "First Character: H\n",
      "Last Character: n\n",
      "Last Character: d\n"
     ]
    }
   ],
   "source": [
    "first_name = \"Kenneth\"\n",
    "last_name = \"Dato\"\n",
    "First_name = \"Nicholas\"\n",
    "\n",
    "print(first_name, last_name)\n",
    "print(first_name)\n",
    "print(First_name)\n",
    "\n",
    "# Indexing\n",
    "message = \"Hello World Python\"\n",
    "print(\"First Character:\", message[0])\n",
    "print(\"Last Character:\", message[-1])\n",
    "print(\"Last Character:\", message[10])"
   ]
  },
  {
   "cell_type": "markdown",
   "metadata": {},
   "source": [
    "### **String Methods**"
   ]
  },
  {
   "cell_type": "code",
   "execution_count": 44,
   "metadata": {},
   "outputs": [
    {
     "name": "stdout",
     "output_type": "stream",
     "text": [
      "Course: data analytics\n",
      "Length of Course: 14\n",
      "Slice the string: data\n",
      "Reverse the string: scitylana atad\n",
      "Step 2: dt nltc\n",
      "Capitalize: Data analytics\n",
      "Title: Data Analytics\n",
      "Upper: DATA ANALYTICS\n",
      "Lower: data analytics\n",
      "Find Analytics in Course: 5\n",
      "Find Science: -1\n",
      "Find a: 1\n",
      "Is Analytics in course: True\n",
      "Is Science in course: False\n",
      "Is a in course: True\n",
      "Replace: information analytics\n"
     ]
    }
   ],
   "source": [
    "course = \"data analytics\"\n",
    "\n",
    "# [starting_index: ending_index(not inclusive): step/traversal method]\n",
    "print(\"Course:\", course)\n",
    "print(\"Length of Course:\", len(course))\n",
    "print(\"Slice the string:\", course[0:4])\n",
    "print(\"Reverse the string:\", course[::-1])\n",
    "print(\"Step 2:\", course[::2])\n",
    "print(\"Capitalize:\", course.capitalize())\n",
    "print(\"Title:\", course.title())\n",
    "print(\"Upper:\", course.upper())\n",
    "print(\"Lower:\", course.lower())\n",
    "\n",
    "print(\"Find Analytics in Course:\", course.find(\"analytics\"))\n",
    "print(\"Find Science:\", course.find(\"science\"))\n",
    "print(\"Find a:\", course.find(\"a\"))\n",
    "\n",
    "print(\"Is Analytics in course:\", \"analytics\" in course)\n",
    "print(\"Is Science in course:\", \"science\" in course)\n",
    "print(\"Is a in course:\", \"a\" in course)\n",
    "\n",
    "print(\"Replace:\", course.replace(\"data\", \"information\"))"
   ]
  },
  {
   "cell_type": "markdown",
   "metadata": {},
   "source": [
    "### **Concatenation, Formatted String, and .format() Method**"
   ]
  },
  {
   "cell_type": "markdown",
   "metadata": {},
   "source": [
    "- **Concatenation**"
   ]
  },
  {
   "cell_type": "code",
   "execution_count": 45,
   "metadata": {},
   "outputs": [
    {
     "name": "stdout",
     "output_type": "stream",
     "text": [
      "Concatenation: John Marcelo\n"
     ]
    }
   ],
   "source": [
    "first_name = \"John\"\n",
    "last_name = \"Marcelo\"\n",
    "print(\"Concatenation:\", first_name + \" \" + last_name)"
   ]
  },
  {
   "cell_type": "markdown",
   "metadata": {},
   "source": [
    "- **Formatted Strings Literals (f-strings)** "
   ]
  },
  {
   "cell_type": "code",
   "execution_count": 47,
   "metadata": {},
   "outputs": [
    {
     "name": "stdout",
     "output_type": "stream",
     "text": [
      "Hello, my name John Arnold Marcelo.\n"
     ]
    }
   ],
   "source": [
    "middle_name = \"Arnold\"\n",
    "print(f\"Hello, my name {first_name} {middle_name} {last_name}.\")"
   ]
  },
  {
   "cell_type": "markdown",
   "metadata": {},
   "source": [
    "- **.format() method**"
   ]
  },
  {
   "cell_type": "code",
   "execution_count": 48,
   "metadata": {},
   "outputs": [
    {
     "name": "stdout",
     "output_type": "stream",
     "text": [
      "Introduction: \n",
      "Hi! My name is John Marcelo,\n",
      "I want to learn data analytics.\n",
      "\n"
     ]
    }
   ],
   "source": [
    "introduction = \"\"\"\n",
    "Hi! My name is {x} {y},\n",
    "I want to learn {z}.\n",
    "\"\"\"\n",
    "print(\"Introduction:\", introduction.format(x=first_name, y=last_name, z=course))"
   ]
  },
  {
   "cell_type": "markdown",
   "metadata": {},
   "source": [
    "## **Lists and List Methods**\n",
    "\n",
    "#### **Introduction to Lists**\n",
    "\n",
    "Lists are mutable sequences, meaning you can modify them after creation. They can contain items of any type, making them incredibly versatile for data collection and manipulation tasks.\n",
    "\n",
    "- Mutability: Lists are mutable, meaning their elements can be changed after creation.\n",
    "- Syntax: Lists are enclosed in square brackets ([]), and elements are separated by commas.\n",
    "- Indexing and Ordering: Lists are ordered collections, preserving the order of elements. Elements can be accessed using indices.\n",
    "- Usage: Lists are suitable for mutable sequences of items, like arrays, stacks, or queues.\n",
    "\n",
    "#### **Creating and Modifying Lists**"
   ]
  },
  {
   "cell_type": "code",
   "execution_count": 49,
   "metadata": {},
   "outputs": [
    {
     "name": "stdout",
     "output_type": "stream",
     "text": [
      "Numbers: [1, 2, 3, 4, 5]\n",
      "Names: ['Chris', 'Kevin', 'Peter', 'Lei']\n",
      "Numbers and Strings: [30, 'Doe', 3.14, True]\n"
     ]
    }
   ],
   "source": [
    "# Create a list\n",
    "numbers = [1, 2, 3, 4, 5]\n",
    "names = [\"Chris\", \"Kevin\", \"Peter\", \"Lei\"]\n",
    "numbers_and_strings = [30, \"Doe\", 3.14, True]\n",
    "\n",
    "print(\"Numbers:\", numbers)\n",
    "print(\"Names:\", names)\n",
    "print(\"Numbers and Strings:\", numbers_and_strings)"
   ]
  },
  {
   "cell_type": "code",
   "execution_count": 52,
   "metadata": {},
   "outputs": [
    {
     "name": "stdout",
     "output_type": "stream",
     "text": [
      "First element: 1\n",
      "Last element: 5\n",
      "Step 2: [1, 3, 5]\n",
      "Reverse the list: [5, 4, 3, 2, 1]\n"
     ]
    }
   ],
   "source": [
    "# List Indexing\n",
    "# [starting_index: ending_index(not inclusive): step/traversal method]\n",
    "\n",
    "print(\"First element:\", numbers[0])\n",
    "print(\"Last element:\", numbers[-1])\n",
    "print(\"Step 2:\", numbers[::2])\n",
    "print(\"Reverse the list:\", numbers[::-1])"
   ]
  },
  {
   "cell_type": "markdown",
   "metadata": {},
   "source": [
    "#### **List Methods**"
   ]
  },
  {
   "cell_type": "code",
   "execution_count": 55,
   "metadata": {},
   "outputs": [
    {
     "name": "stdout",
     "output_type": "stream",
     "text": [
      "['Python', 'JavaScript', 'PHP', 'C#', 'C++', 'Ruby']\n",
      "['Python', 'Java', 'JavaScript', 'PHP', 'C#', 'C++', 'Ruby']\n",
      "['Python', 'Java', 'JavaScript', 'PHP', 'C#', 'C++']\n",
      "['Python', 'Java', 'PHP', 'C#', 'C++']\n",
      "['Python', 'Java', 'C#', 'C++']\n",
      "['Python', 'C#', 'C++']\n",
      "Is Python in list? False\n"
     ]
    }
   ],
   "source": [
    "programming_languages = [\"Python\", \"JavaScript\", \"PHP\", \"C#\", \"C++\"]\n",
    "\n",
    "# Add an element at the end of the list\n",
    "programming_languages.append(\"Ruby\")\n",
    "print(programming_languages)\n",
    "\n",
    "# Add an element at a specified index\n",
    "programming_languages.insert(1, \"Java\")\n",
    "print(programming_languages)\n",
    "\n",
    "# Delete an element at the end/specified index of the list\n",
    "programming_languages.pop()\n",
    "print(programming_languages)\n",
    "programming_languages.pop(2)\n",
    "print(programming_languages)\n",
    "\n",
    "programming_languages.remove(\"PHP\")\n",
    "print(programming_languages)\n",
    "\n",
    "del programming_languages[1]\n",
    "print(programming_languages)\n",
    "\n",
    "print(\"Is Python in list?\", \"python\" in programming_languages)"
   ]
  },
  {
   "cell_type": "markdown",
   "metadata": {},
   "source": [
    "#### **List Extending**"
   ]
  },
  {
   "cell_type": "code",
   "execution_count": 1,
   "metadata": {},
   "outputs": [
    {
     "name": "stdout",
     "output_type": "stream",
     "text": [
      "['a', 'b', 'c', 'd'] [1, 2, 3, 4, 5]\n",
      "['a', 'b', 'c', 'd', 1, 2, 3, 4, 5]\n"
     ]
    }
   ],
   "source": [
    "list_of_letters = ['a', 'b', 'c', 'd']\n",
    "list_of_numbers = [1, 2, 3 , 4, 5]\n",
    "print(list_of_letters, list_of_numbers)\n",
    "\n",
    "# Extend the list with another list\n",
    "list_of_letters.extend(list_of_numbers)\n",
    "print(list_of_letters)"
   ]
  },
  {
   "cell_type": "code",
   "execution_count": 2,
   "metadata": {},
   "outputs": [
    {
     "name": "stdout",
     "output_type": "stream",
     "text": [
      "[3.14, 30, True, 'Jorvic']\n"
     ]
    }
   ],
   "source": [
    "mixed_list = [3.14, 30, True, 'Jorvic']\n",
    "# Elements with different data types.\n",
    "print(mixed_list)"
   ]
  },
  {
   "cell_type": "markdown",
   "metadata": {},
   "source": [
    "#### **Sorting List**"
   ]
  },
  {
   "cell_type": "code",
   "execution_count": 4,
   "metadata": {},
   "outputs": [
    {
     "name": "stdout",
     "output_type": "stream",
     "text": [
      "[1, 2, 3, 4, 5, 6, 7, 8, 9]\n",
      "[9, 8, 7, 6, 5, 4, 3, 2, 1]\n",
      "['Arth', 'Eugene', 'Mike', 'Peter']\n",
      "['Peter', 'Mike', 'Eugene', 'Arth']\n"
     ]
    }
   ],
   "source": [
    "list_of_numbers = [9, 1, 8, 2, 7, 3, 6, 4, 5]\n",
    "list_of_numbers.sort()\n",
    "print(list_of_numbers)\n",
    "\n",
    "# Sorting in reverse order\n",
    "list_of_numbers.sort(reverse=True)\n",
    "print(list_of_numbers)\n",
    "\n",
    "# Sorting in ascending order\n",
    "list_of_names = ['Arth', 'Eugene', 'Peter', 'Mike']\n",
    "list_of_names.sort()\n",
    "print(list_of_names)\n",
    "\n",
    "list_of_names.sort(reverse=True)\n",
    "print(list_of_names)"
   ]
  },
  {
   "cell_type": "markdown",
   "metadata": {},
   "source": [
    "## **Dictionaries and Dictionary Methods**\n",
    "\n",
    "#### **Introduction to Dictionaries**\n",
    "\n",
    "Dictionaries in Python are unordered collections of items. While lists are indexed by a range of numbers, dictionaries are indexed by keys, which can be any immutable type; strings and numbers can always be keys.\n",
    "- Mutability: Dictionaries are mutable, meaning they can be modified by adding, updating, or removing key-value pairs.\n",
    "- Syntax: Dictionaries are enclosed in curly braces ({}), with key-value pairs separated by colons (:) and items separated by commas.\n",
    "- Indexing and Ordering: Dictionaries are unordered collections, and elements are accessed using keys rather than indices.\n",
    "- Usage: Dictionaries are suitable for key-value mappings, efficient lookup, and representing structured data\n",
    "\n",
    "#### **Creating a dictionary and accessing values**"
   ]
  },
  {
   "cell_type": "code",
   "execution_count": 6,
   "metadata": {},
   "outputs": [
    {
     "name": "stdout",
     "output_type": "stream",
     "text": [
      "{'first_name': 'Darreal', 'last_name': 'Delos Reyes', 'age': 18, 'address': '123 Example Street', 'skills': ['dancing', 'singing']}\n",
      "Data Type of Dict Person: <class 'dict'>\n"
     ]
    }
   ],
   "source": [
    "dict_person = {\n",
    "    \"first_name\": \"Darreal\",\n",
    "    \"last_name\": \"Delos Reyes\",\n",
    "    \"age\": 18,\n",
    "    \"address\": \"123 Example Street\",\n",
    "    \"skills\": [\"dancing\", \"singing\"]\n",
    "}\n",
    "print(dict_person)\n",
    "print(\"Data Type of Dict Person:\", type(dict_person))"
   ]
  },
  {
   "cell_type": "code",
   "execution_count": 7,
   "metadata": {},
   "outputs": [
    {
     "name": "stdout",
     "output_type": "stream",
     "text": [
      "First Name: Darreal\n",
      "First Name: Darreal\n",
      "Gender: None\n"
     ]
    }
   ],
   "source": [
    "# Indexing\n",
    "print(\"First Name:\", dict_person[\"first_name\"])\n",
    "# print(\"Gender:\", dict_person[\"gender\"]) KeyError\n",
    "\n",
    "# Get Method\n",
    "print(\"First Name:\", dict_person.get(\"first_name\"))\n",
    "print(\"Gender:\", dict_person.get(\"gender\")) # None"
   ]
  },
  {
   "cell_type": "markdown",
   "metadata": {},
   "source": [
    "#### **Dictionary Methods**"
   ]
  },
  {
   "cell_type": "code",
   "execution_count": 12,
   "metadata": {},
   "outputs": [
    {
     "name": "stdout",
     "output_type": "stream",
     "text": [
      "Keys: dict_keys(['first_name', 'last_name', 'age', 'address', 'skills'])\n",
      "Values: dict_values(['Darreal', 'Delos Reyes', 18, '123 Example Street', ['dancing', 'singing']])\n",
      "Items: dict_items([('first_name', 'Darreal'), ('last_name', 'Delos Reyes'), ('age', 18), ('address', '123 Example Street'), ('skills', ['dancing', 'singing'])])\n"
     ]
    }
   ],
   "source": [
    "# Getting all the keys\n",
    "print(\"Keys:\", dict_person.keys())\n",
    "\n",
    "# Getting all the values\n",
    "print(\"Values:\", dict_person.values())\n",
    "\n",
    "# Getting the key and value pair\n",
    "print(\"Items:\", dict_person.items())"
   ]
  },
  {
   "cell_type": "markdown",
   "metadata": {},
   "source": [
    "## **Control Flow and Statements**"
   ]
  },
  {
   "cell_type": "markdown",
   "metadata": {},
   "source": [
    "#### **Conditional Statements:** \n",
    "Allow us to execute different blocks of code based on a condition.\n",
    "\n",
    "- **if, elif, else statements**"
   ]
  },
  {
   "cell_type": "code",
   "execution_count": null,
   "metadata": {},
   "outputs": [],
   "source": [
    "age = 17\n",
    "if age >= 18:\n",
    "    print(\"You are eligable to vote.\")"
   ]
  },
  {
   "cell_type": "code",
   "execution_count": 13,
   "metadata": {},
   "outputs": [
    {
     "name": "stdout",
     "output_type": "stream",
     "text": [
      "You are eligable to vote.\n"
     ]
    }
   ],
   "source": [
    "age = 20\n",
    "if age >= 18:\n",
    "    print(\"You are eligable to vote.\")"
   ]
  },
  {
   "cell_type": "code",
   "execution_count": 14,
   "metadata": {},
   "outputs": [],
   "source": [
    "temperature = 20\n",
    "if temperature < 0:\n",
    "    print(\"It is freezing.\")"
   ]
  },
  {
   "cell_type": "code",
   "execution_count": 15,
   "metadata": {},
   "outputs": [
    {
     "name": "stdout",
     "output_type": "stream",
     "text": [
      "It is freezing.\n"
     ]
    }
   ],
   "source": [
    "temperature = -2\n",
    "if temperature < 0:\n",
    "    print(\"It is freezing.\")"
   ]
  },
  {
   "cell_type": "code",
   "execution_count": 17,
   "metadata": {},
   "outputs": [
    {
     "name": "stdout",
     "output_type": "stream",
     "text": [
      "It's warm.\n"
     ]
    }
   ],
   "source": [
    "temperature = 20\n",
    "\n",
    "if temperature < 0:\n",
    "    print(\"It is freezing.\")\n",
    "elif temperature >= 0 and temperature < 20:\n",
    "    # 0 - 19\n",
    "    print(\"It's cool.\")\n",
    "elif temperature >= 20 and temperature < 30:\n",
    "    # 20 - 29\n",
    "    print(\"It's warm.\")"
   ]
  },
  {
   "cell_type": "code",
   "execution_count": 18,
   "metadata": {},
   "outputs": [
    {
     "name": "stdout",
     "output_type": "stream",
     "text": [
      "It's too hot.\n"
     ]
    }
   ],
   "source": [
    "temperature = 35\n",
    "if temperature < 0:\n",
    "    print(\"It is freezing.\")\n",
    "elif temperature >= 0 and temperature < 20:\n",
    "    # 0 - 19\n",
    "    print(\"It's cool.\")\n",
    "elif temperature >= 20 and temperature < 30:\n",
    "    # 20 - 29\n",
    "    print(\"It's warm.\")\n",
    "else:\n",
    "    print(\"It's too hot.\")"
   ]
  },
  {
   "cell_type": "markdown",
   "metadata": {},
   "source": [
    "- **match-case statements**"
   ]
  },
  {
   "cell_type": "code",
   "execution_count": 19,
   "metadata": {},
   "outputs": [
    {
     "name": "stdout",
     "output_type": "stream",
     "text": [
      "It's a normal day.\n"
     ]
    }
   ],
   "source": [
    "day = \"Tuesday\"\n",
    "\n",
    "match day:\n",
    "    case \"Monday\":\n",
    "        print(\"It's the start of the week.\")\n",
    "    case \"Friday\":\n",
    "        print(\"It's the end of the week days.\")\n",
    "    case default:\n",
    "        print(\"It's a normal day.\")\n",
    "\n",
    "# Default word will also work."
   ]
  },
  {
   "cell_type": "markdown",
   "metadata": {},
   "source": [
    "#### **Looping Statements:** \n",
    "Repeatedly execute a block of code until a specific condition is met.\n",
    "\n",
    "- **for Loop**"
   ]
  },
  {
   "cell_type": "code",
   "execution_count": 20,
   "metadata": {},
   "outputs": [
    {
     "name": "stdout",
     "output_type": "stream",
     "text": [
      "Number 1\n",
      "Number 2\n",
      "Number 3\n",
      "Number 4\n",
      "Number 5\n",
      "Number 6\n",
      "Number 7\n",
      "Number 8\n",
      "Number 9\n",
      "Number 10\n"
     ]
    }
   ],
   "source": [
    "# starting_index, ending_index(not inclusive), step\n",
    "for i in range(0, 10):\n",
    "    print(f\"Number {i + 1}\")"
   ]
  },
  {
   "cell_type": "code",
   "execution_count": 21,
   "metadata": {},
   "outputs": [
    {
     "name": "stdout",
     "output_type": "stream",
     "text": [
      "1\n",
      "2\n",
      "3\n",
      "4\n",
      "5\n"
     ]
    }
   ],
   "source": [
    "# Looping through a list\n",
    "numbers = [1, 2, 3, 4, 5]\n",
    "\n",
    "for number in numbers:\n",
    "    print(number)"
   ]
  },
  {
   "cell_type": "code",
   "execution_count": 22,
   "metadata": {},
   "outputs": [
    {
     "name": "stdout",
     "output_type": "stream",
     "text": [
      "Key: first_name Value: Darreal\n",
      "Key: last_name Value: Delos Reyes\n",
      "Key: age Value: 18\n",
      "Key: address Value: 123 Example Street\n",
      "Key: skills Value: ['dancing', 'singing']\n"
     ]
    }
   ],
   "source": [
    "# print(dict_person)\n",
    "# Looping through a dictionary items(key and value pair.)\n",
    "\n",
    "for key, value in dict_person.items():\n",
    "    print(f\"Key: {key} Value: {value}\")"
   ]
  },
  {
   "cell_type": "markdown",
   "metadata": {},
   "source": [
    "- **while loop**"
   ]
  },
  {
   "cell_type": "code",
   "execution_count": 25,
   "metadata": {},
   "outputs": [
    {
     "name": "stdout",
     "output_type": "stream",
     "text": [
      "Counter: 1\n",
      "Counter: 2\n",
      "Counter: 3\n"
     ]
    }
   ],
   "source": [
    "counter = 1\n",
    "\n",
    "while (counter <= 3):\n",
    "    print(\"Counter:\", counter)\n",
    "    counter += 1"
   ]
  },
  {
   "cell_type": "code",
   "execution_count": 26,
   "metadata": {},
   "outputs": [
    {
     "name": "stdout",
     "output_type": "stream",
     "text": [
      "Counter: 1\n",
      "Counter: 2\n",
      "Counter: 3\n",
      "While loop is done!\n"
     ]
    }
   ],
   "source": [
    "counter = 1\n",
    "\n",
    "while (counter <= 3):\n",
    "    print(\"Counter:\", counter)\n",
    "    counter += 1\n",
    "else:\n",
    "    print(\"While loop is done!\")"
   ]
  },
  {
   "cell_type": "code",
   "execution_count": 27,
   "metadata": {},
   "outputs": [
    {
     "name": "stdout",
     "output_type": "stream",
     "text": [
      "We found may!\n"
     ]
    }
   ],
   "source": [
    "names = ['Ronilo', 'May', 'Judea', 'Kevin']\n",
    "\n",
    "counter = 0\n",
    "while (counter < len(names)):\n",
    "    counter += 1\n",
    "    if names[counter] == 'May':\n",
    "        print(\"We found may!\")\n",
    "        break"
   ]
  },
  {
   "cell_type": "markdown",
   "metadata": {},
   "source": [
    "## **Functions**\n",
    "\n",
    "- Groups code together into a block.\n",
    "- Allows us to call and reuse code efficently.\n",
    "- It could take in information (parameters) and return information (return statement) to the caller."
   ]
  },
  {
   "cell_type": "code",
   "execution_count": 28,
   "metadata": {},
   "outputs": [
    {
     "name": "stdout",
     "output_type": "stream",
     "text": [
      "Hello and welcome to the world of functions.\n",
      "Let'ss gooo!!!\n",
      "Hello and welcome to the world of functions.\n",
      "Let'ss gooo!!!\n",
      "Hello and welcome to the world of functions.\n",
      "Let'ss gooo!!!\n"
     ]
    }
   ],
   "source": [
    "def greet():\n",
    "    print(\"Hello and welcome to the world of functions.\")\n",
    "    print(\"Let'ss gooo!!!\")\n",
    "\n",
    "# Calling a function\n",
    "greet()\n",
    "greet()\n",
    "greet()"
   ]
  },
  {
   "cell_type": "markdown",
   "metadata": {},
   "source": [
    "#### **Functions with Parameters and Arguments**"
   ]
  },
  {
   "cell_type": "code",
   "execution_count": 29,
   "metadata": {},
   "outputs": [
    {
     "name": "stdout",
     "output_type": "stream",
     "text": [
      "Hello Eugene.\n",
      "Hello Isaac.\n"
     ]
    }
   ],
   "source": [
    "def greet_user(name):\n",
    "    print(f\"Hello {name}.\")\n",
    "\n",
    "# Calling a function with a parameter\n",
    "# Parameter: Placeholder/Variable that will store the data.\n",
    "# Argument: Value you pass to a parameter\n",
    "greet_user(\"Eugene\")\n",
    "greet_user(\"Isaac\")"
   ]
  },
  {
   "cell_type": "code",
   "execution_count": 31,
   "metadata": {},
   "outputs": [
    {
     "name": "stdout",
     "output_type": "stream",
     "text": [
      "Hi! My name is David. I am 20.\n"
     ]
    }
   ],
   "source": [
    "# Functions with multiple parameters.\n",
    "\n",
    "def introduce(name, age):\n",
    "    print(f\"Hi! My name is {name}. I am {age}.\")\n",
    "introduce(\"David\", 20)"
   ]
  },
  {
   "cell_type": "markdown",
   "metadata": {},
   "source": [
    "#### **Arbitrary Argument** (*args)"
   ]
  },
  {
   "cell_type": "code",
   "execution_count": 32,
   "metadata": {},
   "outputs": [
    {
     "name": "stdout",
     "output_type": "stream",
     "text": [
      "Total: 60\n",
      "Total: 2300\n"
     ]
    }
   ],
   "source": [
    "def sum(*numbers):\n",
    "    total = 0\n",
    "    for number in numbers:\n",
    "        total += number\n",
    "    print(\"Total:\", total)\n",
    "\n",
    "sum(10, 20, 30)\n",
    "sum(300, 200, 400, 400, 1000)"
   ]
  },
  {
   "cell_type": "markdown",
   "metadata": {},
   "source": [
    "#### **Arbitrary Keyword Arguments** (**kwargs)"
   ]
  },
  {
   "cell_type": "code",
   "execution_count": 34,
   "metadata": {},
   "outputs": [
    {
     "name": "stdout",
     "output_type": "stream",
     "text": [
      "First Name: Kevin\n",
      "Last Name: Nisperos\n"
     ]
    }
   ],
   "source": [
    "def display_student_info(**details):\n",
    "    print(\"First Name:\", details['first_name'])\n",
    "    print(\"Last Name:\", details['last_name'])\n",
    "\n",
    "display_student_info(first_name=\"Kevin\", last_name=\"Nisperos\")"
   ]
  }
 ],
 "metadata": {
  "kernelspec": {
   "display_name": "Python 3",
   "language": "python",
   "name": "python3"
  },
  "language_info": {
   "codemirror_mode": {
    "name": "ipython",
    "version": 3
   },
   "file_extension": ".py",
   "mimetype": "text/x-python",
   "name": "python",
   "nbconvert_exporter": "python",
   "pygments_lexer": "ipython3",
   "version": "3.12.4"
  }
 },
 "nbformat": 4,
 "nbformat_minor": 2
}
